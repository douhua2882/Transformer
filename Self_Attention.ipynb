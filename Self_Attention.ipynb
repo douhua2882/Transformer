{
  "nbformat": 4,
  "nbformat_minor": 0,
  "metadata": {
    "colab": {
      "provenance": [],
      "authorship_tag": "ABX9TyM+lNM5s8mXfTtfUW0exLFO",
      "include_colab_link": true
    },
    "kernelspec": {
      "name": "python3",
      "display_name": "Python 3"
    },
    "language_info": {
      "name": "python"
    }
  },
  "cells": [
    {
      "cell_type": "markdown",
      "metadata": {
        "id": "view-in-github",
        "colab_type": "text"
      },
      "source": [
        "<a href=\"https://colab.research.google.com/github/douhua2882/Transformer/blob/main/Self_Attention.ipynb\" target=\"_parent\"><img src=\"https://colab.research.google.com/assets/colab-badge.svg\" alt=\"Open In Colab\"/></a>"
      ]
    },
    {
      "cell_type": "markdown",
      "source": [
        "## Self Attention in Transformers"
      ],
      "metadata": {
        "id": "0v_Cfn76alfe"
      }
    },
    {
      "cell_type": "markdown",
      "source": [
        "### Generate Data"
      ],
      "metadata": {
        "id": "QChGpXE6asG9"
      }
    },
    {
      "cell_type": "code",
      "source": [
        "import numpy as np\n",
        "import math\n",
        "\n",
        "L, d_k, d_v = 4, 8, 8\n",
        "q = np.random.randn(L, d_k)\n",
        "k = np.random.randn(L, d_k)\n",
        "v = np.random.randn(L, d_v)"
      ],
      "metadata": {
        "id": "vnmDw_4yarSl"
      },
      "execution_count": 1,
      "outputs": []
    },
    {
      "cell_type": "code",
      "source": [
        "print(\"Q\\n\", q)\n",
        "print(\"K\\n\", k)\n",
        "print(\"V\\n\", v)"
      ],
      "metadata": {
        "colab": {
          "base_uri": "https://localhost:8080/"
        },
        "id": "IIEibG9kayA5",
        "outputId": "da210560-4bf0-4e4a-ddd6-bc5aeb7ead56"
      },
      "execution_count": null,
      "outputs": [
        {
          "output_type": "stream",
          "name": "stdout",
          "text": [
            "Q\n",
            " [[-0.11993449  0.89862434 -0.76009501 -0.04604154 -1.40243564  0.31652101\n",
            "   2.16818116 -0.56526164]\n",
            " [ 2.13863082  1.31234223 -0.36791218  1.40673364 -0.50086097 -1.22534046\n",
            "   0.0807025  -0.46283111]\n",
            " [-1.72215265 -0.75502004 -1.42236718  1.05042606  1.09068783 -0.79608508\n",
            "   0.05587742 -0.68369517]\n",
            " [-0.33438194 -0.21406342  1.24018574 -0.24386563  0.02757836  0.46461054\n",
            "  -1.65045735  0.40249933]]\n",
            "K\n",
            " [[-0.29338514  2.54454292  0.66040032 -1.86401072  0.69913026 -1.23585533\n",
            "  -0.9788095  -1.02004732]\n",
            " [-0.43401444 -0.2558092  -0.47753853 -0.83951567 -0.90884813 -0.1018832\n",
            "   1.07452724 -0.19372144]\n",
            " [-0.61532695  1.16622267 -0.36956243 -0.74272091 -0.34949601  0.36100618\n",
            "   0.71014707  0.66462162]\n",
            " [ 1.54212128 -0.84179554 -0.01605768  0.40334175  0.64683248 -0.21154629\n",
            "  -1.35798793  0.64093102]]\n",
            "V\n",
            " [[ 0.66999533 -1.13268771 -0.06110204 -0.39308294  0.75843569  0.50818355\n",
            "   2.36827749 -0.35537324]\n",
            " [ 1.20410627 -0.49431986  1.17368738  1.06898047 -0.70626029  1.48225817\n",
            "   1.60251406  0.9483982 ]\n",
            " [ 2.24408692 -1.7160709  -0.68519245  3.6762599  -0.87614958  0.93287099\n",
            "  -0.82410264  0.29601066]\n",
            " [ 2.0617363   1.11339566  0.33323967  0.36651764  1.64128847  1.68199301\n",
            "  -0.95002837  0.94942097]]\n"
          ]
        }
      ]
    },
    {
      "cell_type": "markdown",
      "source": [
        "## Self Attention"
      ],
      "metadata": {
        "id": "EJ4tZ0NybalI"
      }
    },
    {
      "cell_type": "code",
      "source": [
        "np.matmul(q, k.T)"
      ],
      "metadata": {
        "colab": {
          "base_uri": "https://localhost:8080/"
        },
        "id": "B1dDN0ADbTjK",
        "outputId": "59ee95e8-bea2-454d-aab2-e8c977e1f98a"
      },
      "execution_count": null,
      "outputs": [
        {
          "output_type": "execute_result",
          "data": {
            "text/plain": [
              "array([[-1.01167192,  3.90543002,  3.20534766, -5.22853396],\n",
              "       [ 1.40402646, -1.51276306, -1.21192138,  2.29561373],\n",
              "       [-1.92417717,  0.02029251, -1.15865456, -1.2138563 ],\n",
              "       [ 1.47700078, -2.11145615, -1.06756228,  1.96509185]])"
            ]
          },
          "metadata": {},
          "execution_count": 4
        }
      ]
    },
    {
      "cell_type": "code",
      "source": [
        "# Why we need sqrt(d_k) in denominator\n",
        "q.var(), k.var(), np.matmul(q, k.T).var()"
      ],
      "metadata": {
        "colab": {
          "base_uri": "https://localhost:8080/"
        },
        "id": "BkBBylIPbiQy",
        "outputId": "5c739c71-6ca7-4d3c-d6f8-3418dcd269f5"
      },
      "execution_count": null,
      "outputs": [
        {
          "output_type": "execute_result",
          "data": {
            "text/plain": [
              "(1.021085278110049, 0.8490688448001151, 5.172010342081148)"
            ]
          },
          "metadata": {},
          "execution_count": 5
        }
      ]
    },
    {
      "cell_type": "code",
      "source": [
        "scaled = np.matmul(q, k.T) / math.sqrt(d_k)\n",
        "q.var(), k.var(), scaled.var()"
      ],
      "metadata": {
        "colab": {
          "base_uri": "https://localhost:8080/"
        },
        "id": "laXzDWYibu4M",
        "outputId": "24fdf1ce-934a-457c-abd3-07f91c6d7205"
      },
      "execution_count": null,
      "outputs": [
        {
          "output_type": "execute_result",
          "data": {
            "text/plain": [
              "(1.021085278110049, 0.8490688448001151, 0.6465012927601435)"
            ]
          },
          "metadata": {},
          "execution_count": 6
        }
      ]
    },
    {
      "cell_type": "code",
      "source": [
        "scaled"
      ],
      "metadata": {
        "colab": {
          "base_uri": "https://localhost:8080/"
        },
        "id": "VmoOsR4LbyqC",
        "outputId": "ba0e530f-90dc-4621-f2f4-7c872d968fd9"
      },
      "execution_count": null,
      "outputs": [
        {
          "output_type": "execute_result",
          "data": {
            "text/plain": [
              "array([[-0.35768004,  1.38077803,  1.13326153, -1.84856591],\n",
              "       [ 0.49639832, -0.53484251, -0.42847891,  0.81162202],\n",
              "       [-0.68029936,  0.00717449, -0.40964625, -0.42916301],\n",
              "       [ 0.52219863, -0.74651248, -0.37744026,  0.69476489]])"
            ]
          },
          "metadata": {},
          "execution_count": 7
        }
      ]
    },
    {
      "cell_type": "markdown",
      "source": [
        "## Masking\n",
        "- To ensure words don't get context from words generated in the future\n",
        "- Not required in the encoders, but required in the decoders."
      ],
      "metadata": {
        "id": "dx_ixL25b5aI"
      }
    },
    {
      "cell_type": "code",
      "source": [
        "mask = np.tril(np.ones((L, L)))\n",
        "mask"
      ],
      "metadata": {
        "colab": {
          "base_uri": "https://localhost:8080/"
        },
        "id": "yGlUiLJub1mF",
        "outputId": "fe2db56d-a558-4b69-8581-8456780538d7"
      },
      "execution_count": null,
      "outputs": [
        {
          "output_type": "execute_result",
          "data": {
            "text/plain": [
              "array([[1., 0., 0., 0.],\n",
              "       [1., 1., 0., 0.],\n",
              "       [1., 1., 1., 0.],\n",
              "       [1., 1., 1., 1.]])"
            ]
          },
          "metadata": {},
          "execution_count": 8
        }
      ]
    },
    {
      "cell_type": "code",
      "source": [
        "mask[mask == 0] = -np.infty\n",
        "mask[mask == 1] = 0"
      ],
      "metadata": {
        "id": "CQS4yIvUcTko"
      },
      "execution_count": null,
      "outputs": []
    },
    {
      "cell_type": "code",
      "source": [
        "mask"
      ],
      "metadata": {
        "colab": {
          "base_uri": "https://localhost:8080/"
        },
        "id": "bH_Xm42qcgcj",
        "outputId": "c0c6ecb1-5094-4db9-a344-ea893e9d9bfd"
      },
      "execution_count": null,
      "outputs": [
        {
          "output_type": "execute_result",
          "data": {
            "text/plain": [
              "array([[  0., -inf, -inf, -inf],\n",
              "       [  0.,   0., -inf, -inf],\n",
              "       [  0.,   0.,   0., -inf],\n",
              "       [  0.,   0.,   0.,   0.]])"
            ]
          },
          "metadata": {},
          "execution_count": 10
        }
      ]
    },
    {
      "cell_type": "code",
      "source": [
        "scaled + mask"
      ],
      "metadata": {
        "colab": {
          "base_uri": "https://localhost:8080/"
        },
        "id": "lkeP3NWcchbj",
        "outputId": "ecd3320e-4c78-43bc-ceb6-32938b3e0e92"
      },
      "execution_count": null,
      "outputs": [
        {
          "output_type": "execute_result",
          "data": {
            "text/plain": [
              "array([[-0.35768004,        -inf,        -inf,        -inf],\n",
              "       [ 0.49639832, -0.53484251,        -inf,        -inf],\n",
              "       [-0.68029936,  0.00717449, -0.40964625,        -inf],\n",
              "       [ 0.52219863, -0.74651248, -0.37744026,  0.69476489]])"
            ]
          },
          "metadata": {},
          "execution_count": 11
        }
      ]
    },
    {
      "cell_type": "markdown",
      "source": [
        "## Softmax"
      ],
      "metadata": {
        "id": "IJnC96efcnlW"
      }
    },
    {
      "cell_type": "code",
      "source": [
        "def softmax(x):\n",
        "  return (np.exp(x).T / np.sum(np.exp(x), axis=-1)).T"
      ],
      "metadata": {
        "id": "SRHxoQEfckaN"
      },
      "execution_count": null,
      "outputs": []
    },
    {
      "cell_type": "code",
      "source": [
        "attention = softmax(scaled + mask)"
      ],
      "metadata": {
        "id": "RreE-MZfdkzA"
      },
      "execution_count": null,
      "outputs": []
    },
    {
      "cell_type": "code",
      "source": [
        "attention"
      ],
      "metadata": {
        "colab": {
          "base_uri": "https://localhost:8080/"
        },
        "id": "-vJfyKx6dnLd",
        "outputId": "da51b403-b821-47d1-e0df-6d93b5af97b8"
      },
      "execution_count": null,
      "outputs": [
        {
          "output_type": "execute_result",
          "data": {
            "text/plain": [
              "array([[1.        , 0.        , 0.        , 0.        ],\n",
              "       [0.73715638, 0.26284362, 0.        , 0.        ],\n",
              "       [0.23258487, 0.46253816, 0.30487697, 0.        ],\n",
              "       [0.34767361, 0.09776367, 0.14140459, 0.41315813]])"
            ]
          },
          "metadata": {},
          "execution_count": 32
        }
      ]
    },
    {
      "cell_type": "code",
      "source": [
        "new_v = np.matmul(attention, v)\n",
        "new_v"
      ],
      "metadata": {
        "colab": {
          "base_uri": "https://localhost:8080/"
        },
        "id": "uEjKLB5Sdn-j",
        "outputId": "95ebed89-04b4-4757-a29a-c81feafb4413"
      },
      "execution_count": null,
      "outputs": [
        {
          "output_type": "execute_result",
          "data": {
            "text/plain": [
              "array([[ 0.66999533, -1.13268771, -0.06110204, -0.39308294,  0.75843569,\n",
              "         0.50818355,  2.36827749, -0.35537324],\n",
              "       [ 0.81038298, -0.9648968 ,  0.26345448, -0.00878891,  0.3734497 ,\n",
              "         0.76421284,  2.16700146, -0.01268525],\n",
              "       [ 1.39694629, -1.01527832,  0.31976439,  1.52382609, -0.41738949,\n",
              "         1.08820765,  1.0407995 ,  0.44626275],\n",
              "       [ 1.51980485, -0.224784  ,  0.13429173,  0.63911266,  0.74886157,\n",
              "         1.14843433,  0.4710114 ,  0.40328325]])"
            ]
          },
          "metadata": {},
          "execution_count": 33
        }
      ]
    },
    {
      "cell_type": "markdown",
      "source": [
        "## Function"
      ],
      "metadata": {
        "id": "5DhXU3cXeK9F"
      }
    },
    {
      "cell_type": "code",
      "source": [
        "def softmax(x):\n",
        "  return (np.exp(x).T / np.sum(np.exp(x), axis=-1)).T\n",
        "\n",
        "\n",
        "def scaled_dot_product_attention(q, k, v, mask=None):\n",
        "  d_k = q.shape[-1]\n",
        "  scaled = np.matmul(q, k.T) / math.sqrt(d_k)\n",
        "  if mask is not None:\n",
        "    scaled += mask\n",
        "  attention = softmax(scaled)\n",
        "  out = np.matmul(attention, v)\n",
        "  return out, attention"
      ],
      "metadata": {
        "id": "YmcXRedzeFOr"
      },
      "execution_count": null,
      "outputs": []
    },
    {
      "cell_type": "code",
      "source": [
        "values, attention = scaled_dot_product_attention(q, k, v, mask=mask)\n",
        "print(\"Q\\n\", q)\n",
        "print(\"K\\n\", k)\n",
        "print(\"V\\n\", v)\n",
        "print(\"New V\\n\", values)\n",
        "print(\"Attention\\n\", attention)"
      ],
      "metadata": {
        "colab": {
          "base_uri": "https://localhost:8080/"
        },
        "id": "jKf6I5FPes1S",
        "outputId": "c301e0db-452a-42bb-9aaa-362698c70e98"
      },
      "execution_count": null,
      "outputs": [
        {
          "output_type": "stream",
          "name": "stdout",
          "text": [
            "Q\n",
            " [[-0.11993449  0.89862434 -0.76009501 -0.04604154 -1.40243564  0.31652101\n",
            "   2.16818116 -0.56526164]\n",
            " [ 2.13863082  1.31234223 -0.36791218  1.40673364 -0.50086097 -1.22534046\n",
            "   0.0807025  -0.46283111]\n",
            " [-1.72215265 -0.75502004 -1.42236718  1.05042606  1.09068783 -0.79608508\n",
            "   0.05587742 -0.68369517]\n",
            " [-0.33438194 -0.21406342  1.24018574 -0.24386563  0.02757836  0.46461054\n",
            "  -1.65045735  0.40249933]]\n",
            "K\n",
            " [[-0.29338514  2.54454292  0.66040032 -1.86401072  0.69913026 -1.23585533\n",
            "  -0.9788095  -1.02004732]\n",
            " [-0.43401444 -0.2558092  -0.47753853 -0.83951567 -0.90884813 -0.1018832\n",
            "   1.07452724 -0.19372144]\n",
            " [-0.61532695  1.16622267 -0.36956243 -0.74272091 -0.34949601  0.36100618\n",
            "   0.71014707  0.66462162]\n",
            " [ 1.54212128 -0.84179554 -0.01605768  0.40334175  0.64683248 -0.21154629\n",
            "  -1.35798793  0.64093102]]\n",
            "V\n",
            " [[ 0.66999533 -1.13268771 -0.06110204 -0.39308294  0.75843569  0.50818355\n",
            "   2.36827749 -0.35537324]\n",
            " [ 1.20410627 -0.49431986  1.17368738  1.06898047 -0.70626029  1.48225817\n",
            "   1.60251406  0.9483982 ]\n",
            " [ 2.24408692 -1.7160709  -0.68519245  3.6762599  -0.87614958  0.93287099\n",
            "  -0.82410264  0.29601066]\n",
            " [ 2.0617363   1.11339566  0.33323967  0.36651764  1.64128847  1.68199301\n",
            "  -0.95002837  0.94942097]]\n",
            "New V\n",
            " [[ 0.66999533 -1.13268771 -0.06110204 -0.39308294  0.75843569  0.50818355\n",
            "   2.36827749 -0.35537324]\n",
            " [ 0.81038298 -0.9648968   0.26345448 -0.00878891  0.3734497   0.76421284\n",
            "   2.16700146 -0.01268525]\n",
            " [ 1.39694629 -1.01527832  0.31976439  1.52382609 -0.41738949  1.08820765\n",
            "   1.0407995   0.44626275]\n",
            " [ 1.51980485 -0.224784    0.13429173  0.63911266  0.74886157  1.14843433\n",
            "   0.4710114   0.40328325]]\n",
            "Attention\n",
            " [[1.         0.         0.         0.        ]\n",
            " [0.73715638 0.26284362 0.         0.        ]\n",
            " [0.23258487 0.46253816 0.30487697 0.        ]\n",
            " [0.34767361 0.09776367 0.14140459 0.41315813]]\n"
          ]
        }
      ]
    }
  ]
}